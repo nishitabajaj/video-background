{
 "cells": [
  {
   "cell_type": "code",
   "execution_count": 1,
   "metadata": {},
   "outputs": [],
   "source": [
    "import cv2\n",
    "import numpy as np"
   ]
  },
  {
   "cell_type": "code",
   "execution_count": null,
   "metadata": {},
   "outputs": [],
   "source": [
    "clip = cv2.VideoCapture(\"C:\\\\Users\\\\Nishita Bajaj\\\\OneDrive\\\\Desktop\\\\VIDEO BACKGROUND\\\\dance.mp4\")\n",
    "background = cv2.imread(\"C:\\\\Users\\\\Nishita Bajaj\\\\OneDrive\\\\Desktop\\\\VIDEO BACKGROUND\\\\hogwarts.jpg\")\n",
    "\n",
    "while True:\n",
    "    ret, video_clip = clip.read()\n",
    "    video_clip = cv2.resize(video_clip,(800,600)) #to resize video frame\n",
    "    background = cv2.resize(background, (800,600)) #to resize image screen\n",
    "    hsv = cv2.cvtColor(video_clip, cv2.COLOR_BGR2HSV)\n",
    "\n",
    "    l_g = np.array([50,10,130])\n",
    "    u_g = np.array([190,255,255])\n",
    "\n",
    "    mask = cv2.inRange(hsv,l_g,u_g)\n",
    "    final_val = cv2.bitwise_and(video_clip,video_clip, mask = mask)\n",
    "    resultant = video_clip - final_val\n",
    "    green_screen = np.where(resultant == 0, background, resultant)\n",
    "    cv2.imshow(\"Edited clip\",green_screen)\n",
    "    k = cv2.waitKey(1)\n",
    "    if k == ord(\"n\"): #press n to close the video screen\n",
    "        break\n",
    "\n",
    "clip.release()\n",
    "cv2.destroyAllWindows()"
   ]
  }
 ],
 "metadata": {
  "kernelspec": {
   "display_name": "Python 3.10.8 64-bit",
   "language": "python",
   "name": "python3"
  },
  "language_info": {
   "codemirror_mode": {
    "name": "ipython",
    "version": 3
   },
   "file_extension": ".py",
   "mimetype": "text/x-python",
   "name": "python",
   "nbconvert_exporter": "python",
   "pygments_lexer": "ipython3",
   "version": "3.10.8"
  },
  "orig_nbformat": 4,
  "vscode": {
   "interpreter": {
    "hash": "a94823875d16f8652f42c8acb2fa1e710c6b0d6ac0bb34721edeb626e7d0625c"
   }
  }
 },
 "nbformat": 4,
 "nbformat_minor": 2
}
